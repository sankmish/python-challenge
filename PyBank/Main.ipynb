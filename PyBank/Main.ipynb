{
 "cells": [
  {
   "cell_type": "code",
   "execution_count": 8,
   "metadata": {},
   "outputs": [],
   "source": [
    "import csv\n",
    "import os\n",
    "\n",
    "file = (\"Resources/budget_data.csv\")\n",
    "outFile = (\"Output/output_budget_data.txt\")\n",
    "\n",
    "date = []\n",
    "plusMinus = []\n",
    "netProfit = 0\n",
    "totalChange = 0\n",
    "greatestIncrease = 0\n",
    "indexInc = 0\n",
    "greatestDecrease = 0\n",
    "indexDec = 0\n",
    "\n",
    "\n",
    "#Your task is to create a Python script that analyzes the records to calculate each of the following:\n",
    "\n",
    "#The total number of months included in the dataset //\n",
    "\n",
    "#The total net amount of \"Profit/Losses\" over the entire period //\n",
    "\n",
    "#The average change in \"Profit/Losses\" between months over the entire period //\n",
    "\n",
    "#The greatest increase in profits (date and amount) over the entire period //\n",
    "\n",
    "#The greatest decrease in losses (date and amount) over the entire period"
   ]
  },
  {
   "cell_type": "code",
   "execution_count": 9,
   "metadata": {
    "scrolled": true
   },
   "outputs": [],
   "source": [
    "with open(file, newline=\"\") as csvfile:\n",
    "    csvreader = csv.reader(csvfile, delimiter=\",\")\n",
    "    for row in csvreader:\n",
    "        if (row == \"\"):\n",
    "            break\n",
    "        date.append(row[0])\n",
    "        plusMinus.append(row[1])"
   ]
  },
  {
   "cell_type": "code",
   "execution_count": 10,
   "metadata": {},
   "outputs": [],
   "source": [
    "# Calculate months from list of dates (-1 for blank last line)\n",
    "months = len(date)-1\n",
    "# Parse plusMinus into ints to add into Net\n",
    "for z in range(1,months+1):\n",
    "    plusMinus[z] = float(plusMinus[z])\n",
    "# Calculate total Profit, average Profit greatest Increase and Decrease\n",
    "for i in range(2,months+1):\n",
    "    netProfit = netProfit + plusMinus[i]\n",
    "    if (i == months):\n",
    "        if (plusMinus[i] > plusMinus[i-1]):\n",
    "            diffGreat = (plusMinus[i] - plusMinus[i-1])\n",
    "            if (diffGreat > greatestIncrease):\n",
    "                greatestIncrease = diffGreat\n",
    "                indexInc = i\n",
    "        if (plusMinus[i] < plusMinus[i-1]):\n",
    "            diffLess = (plusMinus[i] - plusMinus[i-1])\n",
    "            if (diffLess > greatestDecrease):\n",
    "                greatestDecrease = diffLess\n",
    "                indexDec = i\n",
    "    if (i != months):\n",
    "        if (plusMinus[i] > plusMinus[i-1]):\n",
    "            diffGreat = (plusMinus[i] - plusMinus[i-1])\n",
    "            if (diffGreat > greatestIncrease):\n",
    "                greatestIncrease = diffGreat\n",
    "                indexInc = 1\n",
    "        if (plusMinus[i+1] < plusMinus[i]):\n",
    "            diffLess = (plusMinus[i+1] - plusMinus[i])\n",
    "            if (diffLess < greatestDecrease):\n",
    "                greatestDecrease = diffLess\n",
    "                indexDec = i\n",
    "avgProf = netProfit/months  "
   ]
  },
  {
   "cell_type": "code",
   "execution_count": 11,
   "metadata": {
    "scrolled": true
   },
   "outputs": [
    {
     "name": "stdout",
     "output_type": "stream",
     "text": [
      "Financial Analysis:\n",
      "--------------------------\n",
      "Total Months: 86\n",
      "Total: $37514694.0\n",
      "Average Change: $436217.37209302327\n",
      "Greatest Increase in Profits: Jan-2010  (1926159.0)\n",
      "Greatest Decrease in Profits: Aug-2013  (-2196167.0)\n"
     ]
    }
   ],
   "source": [
    "print(\"Financial Analysis:\")\n",
    "print(\"--------------------------\")\n",
    "print(\"Total Months: \" + str(months))\n",
    "print(\"Total: $\" + str(netProfit))\n",
    "print(\"Average Change: $\" + str(avgProf))\n",
    "print(\"Greatest Increase in Profits: \" + date[indexInc] + \"  (\" + str(greatestIncrease) +\")\" )\n",
    "print(\"Greatest Decrease in Profits: \" + date[indexDec] + \"  (\" + str(greatestDecrease) +\")\" )"
   ]
  },
  {
   "cell_type": "code",
   "execution_count": 12,
   "metadata": {},
   "outputs": [],
   "source": [
    "with open(outFile, \"w\", newline=\"\") as datafile:\n",
    "    writer = csv.writer(datafile)\n",
    "    writer.writerow([\"Financial Analysis:\"])\n",
    "    writer.writerow([\"--------------------------\"])\n",
    "    writer.writerow([\"Total Months: \" + str(months)])\n",
    "    writer.writerow([\"Total: $\" + str(netProfit)])\n",
    "    writer.writerow([\"Average Change: $\" + str(avgProf)])\n",
    "    writer.writerow([\"Greatest Increase in Profits: \" + date[indexInc] + \"  (\" + str(greatestIncrease) +\")\" ])\n",
    "    writer.writerow([\"Greatest Decrease in Profits: \" + date[indexDec] + \"  (\" + str(greatestDecrease) +\")\"])"
   ]
  }
 ],
 "metadata": {
  "kernelspec": {
   "display_name": "Python 3",
   "language": "python",
   "name": "python3"
  },
  "language_info": {
   "codemirror_mode": {
    "name": "ipython",
    "version": 3
   },
   "file_extension": ".py",
   "mimetype": "text/x-python",
   "name": "python",
   "nbconvert_exporter": "python",
   "pygments_lexer": "ipython3",
   "version": "3.6.5"
  }
 },
 "nbformat": 4,
 "nbformat_minor": 2
}
