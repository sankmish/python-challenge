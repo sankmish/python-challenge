{
 "cells": [
  {
   "cell_type": "code",
   "execution_count": 81,
   "metadata": {},
   "outputs": [],
   "source": [
    "import csv\n",
    "import os\n",
    "\n",
    "candidates = []\n",
    "file = (\"Resources/election_data.csv\")\n",
    "outFile = (\"Output/output_election_data.txt\")\n",
    "uniqueNames = []\n",
    "totalVotes = 0\n",
    "countKhan = 0\n",
    "countCorrey = 0 \n",
    "countLi = 0\n",
    "countTooley = 0\n",
    "\n",
    "with open(file, newline=\"\") as csvfile:\n",
    "    csvreader = csv.reader(csvfile, delimiter=\",\")\n",
    "    for row in csvreader:\n",
    "        if (row[2]==\"Candidate\"):\n",
    "            continue\n",
    "        candidates.append(row[2])\n",
    "        if (row[2]==\"Khan\"):\n",
    "            totalVotes = totalVotes + 1\n",
    "            countKhan = countKhan + 1\n",
    "        if (row[2]==\"Correy\"):\n",
    "            totalVotes = totalVotes + 1\n",
    "            countCorrey = countCorrey + 1\n",
    "        if (row[2]==\"Li\"):\n",
    "            totalVotes = totalVotes + 1\n",
    "            countLi = countLi + 1\n",
    "        if (row[2]==\"O'Tooley\"):\n",
    "            totalVotes = totalVotes + 1\n",
    "            countTooley = countTooley + 1"
   ]
  },
  {
   "cell_type": "code",
   "execution_count": 82,
   "metadata": {},
   "outputs": [],
   "source": [
    "for x in candidates:\n",
    "    if x not in uniqueNames:\n",
    "        uniqueNames.append(x)\n",
    "percentKhan = countKhan/totalVotes\n",
    "percentCorrey = countCorrey/totalVotes\n",
    "percentLi = countLi/totalVotes\n",
    "percentTooley = countTooley/totalVotes\n",
    "if (countKhan > countCorrey and countKhan > countLi and countKhan > countTooley):\n",
    "    winner = \"Khan\"\n",
    "if (countCorrey > countKhan and countCorrey > countLi and countCorrey and countTooley):\n",
    "    winner = \"Correy\"\n",
    "if (countLi > countKhan and countLi > countCorrey and countLi > countTooley):\n",
    "    winner = \"Li\"\n",
    "if (countTooley > countKhan and countTooley > countCorrey and countTooley > countLi):\n",
    "    winner = \"Tooley\""
   ]
  },
  {
   "cell_type": "code",
   "execution_count": 83,
   "metadata": {},
   "outputs": [
    {
     "name": "stdout",
     "output_type": "stream",
     "text": [
      "Election Results\n",
      "--------------------\n",
      "Total Votes: 3521001\n",
      "--------------------\n",
      "Khan: 63.000% (2218231)\n",
      "Correy: 20.000% (704200)\n",
      "Li: 14.000% (492940)\n",
      "O'Tooley: 3.000% (105630)\n",
      "--------------------\n",
      "Winner: Khan\n",
      "--------------------\n"
     ]
    }
   ],
   "source": [
    "print(\"Election Results\")\n",
    "print(\"--------------------\")\n",
    "print(\"Total Votes: \" + str(totalVotes) )\n",
    "print(\"--------------------\")\n",
    "print(uniqueNames[0] + \": \" +  \"{:.3f}\".format(percentKhan * 100)  + \"% (\" + str(countKhan) + \")\")\n",
    "print(uniqueNames[1] + \": \" + \"{:.3f}\".format(percentCorrey * 100) + \"% (\" + str(countCorrey) + \")\")\n",
    "print(uniqueNames[2] + \": \" + \"{:.3f}\".format(percentLi * 100) + \"% (\" + str(countLi) + \")\")\n",
    "print(uniqueNames[3] + \": \" + \"{:.3f}\".format(percentTooley * 100) + \"% (\" + str(countTooley) + \")\")\n",
    "print(\"--------------------\")\n",
    "print(\"Winner: \" + winner)\n",
    "print(\"--------------------\")"
   ]
  },
  {
   "cell_type": "code",
   "execution_count": 84,
   "metadata": {},
   "outputs": [],
   "source": [
    "with open(outFile, \"w\", newline=\"\") as datafile:\n",
    "    writer = csv.writer(datafile)\n",
    "    writer.writerow([\"Election Results\"]) \n",
    "    writer.writerow([\"--------------------\"])\n",
    "    writer.writerow([\"Total Votes: \" + str(totalVotes)])\n",
    "    writer.writerow([\"--------------------\"])\n",
    "    writer.writerow([uniqueNames[0] + \": \" +  \"{:.3f}\".format(percentKhan * 100)  + \"% (\" + str(countKhan) + \")\"])\n",
    "    writer.writerow([uniqueNames[1] + \": \" + \"{:.3f}\".format(percentCorrey * 100) + \"% (\" + str(countCorrey) + \")\"])\n",
    "    writer.writerow([uniqueNames[2] + \": \" + \"{:.3f}\".format(percentLi * 100) + \"% (\" + str(countLi) + \")\"])\n",
    "    writer.writerow([uniqueNames[3] + \": \" + \"{:.3f}\".format(percentTooley * 100) + \"% (\" + str(countTooley) + \")\"])\n",
    "    writer.writerow([\"--------------------\"])\n",
    "    writer.writerow([\"Winner: \" + winner])\n",
    "    writer.writerow([\"--------------------\"])"
   ]
  }
 ],
 "metadata": {
  "kernelspec": {
   "display_name": "Python 3",
   "language": "python",
   "name": "python3"
  },
  "language_info": {
   "codemirror_mode": {
    "name": "ipython",
    "version": 3
   },
   "file_extension": ".py",
   "mimetype": "text/x-python",
   "name": "python",
   "nbconvert_exporter": "python",
   "pygments_lexer": "ipython3",
   "version": "3.6.5"
  }
 },
 "nbformat": 4,
 "nbformat_minor": 2
}
